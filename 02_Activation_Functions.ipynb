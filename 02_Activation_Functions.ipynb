{
 "cells": [
  {
   "cell_type": "markdown",
   "id": "47b733dd-dfea-426e-ae1f-d9d6f4681ad8",
   "metadata": {},
   "source": [
    "# **Neural Networks and Activation Function**\n",
    "\n",
    "## Introduction\n",
    "In the application of the Convolution Neural Network(CNN) model, there is a lot of scope for improvement due to its complex architecture. Researchers had tried a lot of different ways to improve the results of the model. They had tried different image classification methods, altered learning rate used regularization techniques like Dropout, and so on.\n",
    "\n",
    "All these different methods produced better results but for the Convolution Neural Network model, activation function remains at its core. So, considering the fact that activation function plays an important role in CNNs, proper use of activation function is very much necessary.\n",
    "\n",
    "Depending on the function it represents, activation functions can be either linear or non-linear and are used to control the outputs neural networks. They are being used across different domains from object recognition and classification to speech recognition, segmentation, cancer detection systems, fingerprint detection, weather forecast, self-driving cars, and other domains to mention a few.\n",
    "\n",
    "So, while implementing we had doubts about which activation function is to be used. In this article, we will go one by one to different activation functions and look deeper into their pros and cons."
   ]
  },
  {
   "cell_type": "markdown",
   "id": "415ce13e-36f3-49e5-95ef-606a8cbede1d",
   "metadata": {},
   "source": [
    "# What is an Activation Function?\n",
    "The input layer of the neural network receives data for training which comes in different formats like images, audio, or texts. From the dataset, input features with weights and biases are used to calculate the linear function. Then, this resultant from the linear function is used by the activation function as input and calculated activations are further fed as input to the next layer.\n",
    "\n",
    "<img src=\"https://editor.analyticsvidhya.com/uploads/49097ACT.gif\">\n",
    "\n",
    "Basically, three important steps took place in a single iteration of deep neural architectures: Forward Propagation, Backward Propagation, and Gradient Descent(Optimization).\n",
    "\n",
    "1. Forward Propagation: In this step input data is fed in the forward direction through each layer of the neural network. The linear calculation takes place in this step and the activation function is applied.\n",
    "\n",
    "2. Back Propagation: This step helps in calculating all the derivatives which will be further used for Optimization or updating the parameters.\n",
    "\n",
    "3. Optimization: This step helps in the convergence of the loss function by continuously updating the parameters in each iteration. Some optimization algorithms are as follows: \n",
    "* Gradient Descent\n",
    "* Momentum\n",
    "* Adam\n",
    "* AdaGrad\n",
    "* RMSProp, etc."
   ]
  },
  {
   "cell_type": "markdown",
   "id": "c8f6b7b2-73ae-416b-ba38-369036c45ed2",
   "metadata": {},
   "source": [
    "# **Let us discuss Activation Functions**\n",
    "## 01. Sigmoid Function\n",
    "* The biggest advantage that it has over other steps and linear functions is its non-linearity. The function ranges from 0 to 1 having an S shape. Also known by the name of the logistic or squashing function in some literature. The sigmoid function is used in output layers of the DNN and is used for probability-based output.\n",
    "\n",
    "Its major drawbacks are sharp damp gradients during backpropagation, gradient saturation, slow convergence, and non-zero centered output thereby causing the gradient updates to propagate in different directions\n",
    "\n",
    "<img src=\"https://editor.analyticsvidhya.com/uploads/15533SIG.jpg\">\n",
    "\n",
    "Other Variants:\n",
    "\n",
    "*  Hard Sigmoid Function\n",
    "\n",
    "* Sigmoid Weigted Linear Units(SiLU)"
   ]
  },
  {
   "cell_type": "markdown",
   "id": "e5e5fd18-f05c-474c-8469-33542de2d1c8",
   "metadata": {},
   "source": [
    "## 02. TanH Function\n",
    "* The hyperbolic tangent function is a zero-centered function and its range lies between -1 to 1\n",
    "\n",
    "* As this function is zero centered, this makes it easier to model inputs that have strongly negative, neutral, and strongly positive values\n",
    "\n",
    "* It is advised to use tanh function instead of sigmoid function if your output is other than 0 and 1\n",
    "\n",
    "* The tanh functions have been used mostly in RNN for natural language processing and speech recognition tasks\n",
    "\n",
    "<img src=\"https://editor.analyticsvidhya.com/uploads/42116TAN.gif\">\n",
    "f(x)=(e^x-e^(-x))/(e^x+e^(-x)"
   ]
  },
  {
   "cell_type": "markdown",
   "id": "e3f260e9-781e-4b12-bcf1-ad365aa4ef67",
   "metadata": {},
   "source": [
    "## 03. Rectified Linear Unit(ReLU)\n",
    "* ReLU has been the most widely used activation function for DL applications with state-of-the-art results\n",
    "\n",
    "* It provides the upper hand in performance and generalization compared to the Sigmoid and Tanh activation functions\n",
    "\n",
    "* Along with the overall speed of computation enhanced, ReLU provides faster computation since it does not compute exponentials and divisions\n",
    "\n",
    "* It easily overfits compared to the sigmoid function and is one of the main limitations. Some techniques like dropout are used to reduce the overfitting\n",
    "\n",
    "<img src=\"https://editor.analyticsvidhya.com/uploads/39759RELU.jpg\">\n",
    "\n",
    "fx=x if x≥0 and 0\n",
    "if x<0\n",
    "\n",
    "**Other variants:**\n",
    "\n",
    "* Leaky ReLU(LReLU)\n",
    "\n",
    "* Parametric ReLU(PReLU)\n",
    "\n",
    "* Randomised Leaky ReLU(RReLU)\n",
    "\n",
    "* S-Shaped ReLU(SReLU)"
   ]
  },
  {
   "cell_type": "markdown",
   "id": "59cf5dab-a654-4707-a8c9-4f7c7e301484",
   "metadata": {},
   "source": [
    "## 04. Softplus Function\n",
    "* Softplus was proposed by Dugas in 2001, given by the relationship,\n",
    "\n",
    "f(x)=log (1+e^x)\n",
    "\n",
    "* Softplus has smoothing and nonzero gradient properties, thereby enhancing the stabilization and performance of DNN designed with soft plus units\n",
    "\n",
    "* The comparison of the Softplus function with the ReLU and Sigmoid functions showed improved performance with lesser epochs to convergence during training\n",
    "\n",
    "<img src=\"https://editor.analyticsvidhya.com/uploads/27987SOFT.png\">\n"
   ]
  },
  {
   "cell_type": "markdown",
   "id": "93254ee5-338d-46be-892a-4fe1b0615702",
   "metadata": {},
   "source": [
    "## 05. Exponential Linear Units(ELUs)\n",
    "* Exponential Linear Unit was proposed by Clevert in 2015\n",
    "\n",
    "* As it decreases bias shifts by pushing mean activation towards zero during training, ELU represents a good alternative to the ReLU\n",
    "\n",
    "* A limitation of the ELU is that the ELU does not center the values at zero\n",
    "\n",
    "<img src=\"https://editor.analyticsvidhya.com/uploads/42562elu.jpg\">\n",
    "\n",
    "f(x)=x if x>0 and f(x)=∝〖(e〗^x-1) if x<0\n",
    "\n",
    "Other Variants:\n",
    "\n",
    "* Parametric ELU(PELU)\n",
    "\n",
    "* Scaled ELU(SELU)"
   ]
  },
  {
   "cell_type": "markdown",
   "id": "e1a1475e-3451-4d7a-9f19-0bee6caa71a7",
   "metadata": {},
   "source": [
    "## 06. Swish Function\n",
    "* Ramachandran in 2017 proposed the Swish activation function\n",
    "\n",
    "* It is one of the first compound function proposed by the combination of the sigmoid function and the input function\n",
    "\n",
    "* The smoothness property makes it produce better optimization and generalization results when used in training deep learning architectures\n",
    "\n",
    "* This function does not suffer from vanishing gradient problems\n",
    "\n",
    "<img src=\"https://editor.analyticsvidhya.com/uploads/49764SW.png\">\n",
    "\n",
    "f(x)=x*sigmoid(x)=x/(1+e^(-x)\n",
    "\n"
   ]
  },
  {
   "cell_type": "markdown",
   "id": "f1274734-af53-4bad-81cf-0d7798ea491b",
   "metadata": {},
   "source": [
    "# Choosing the Right One\n",
    "After going through so many activation functions we need some know-how when and where to use each activation function\n",
    "\n",
    "Now, depending upon the type of problem we are solving and taking other factors into consideration we should keep the following points in mind:\n",
    "\n",
    "1. Use the ReLu function in hidden layers only\n",
    "\n",
    "2. In binary classification remember to use the Sigmoid function in the output layer\n",
    "\n",
    "3. In multi-class classification(when classes to predict are more than 2) problem use Softmax function in the output layer\n",
    "\n",
    "4. Due to the vanishing gradient problem ‘Sigmoid’ and ‘Tanh’ activation functions are avoided sometimes in deep neural network architectures\n",
    "\n",
    "5. Always remember you can also invent your own activation function and can check its performance with the other functions"
   ]
  },
  {
   "cell_type": "code",
   "execution_count": null,
   "id": "8bf91325-05b5-4650-80ba-72498a11825c",
   "metadata": {},
   "outputs": [],
   "source": []
  }
 ],
 "metadata": {
  "kernelspec": {
   "display_name": "Python 3",
   "language": "python",
   "name": "python3"
  },
  "language_info": {
   "codemirror_mode": {
    "name": "ipython",
    "version": 3
   },
   "file_extension": ".py",
   "mimetype": "text/x-python",
   "name": "python",
   "nbconvert_exporter": "python",
   "pygments_lexer": "ipython3",
   "version": "3.8.10"
  }
 },
 "nbformat": 4,
 "nbformat_minor": 5
}
