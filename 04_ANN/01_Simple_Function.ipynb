{
 "cells": [
  {
   "cell_type": "markdown",
   "metadata": {},
   "source": [
    "# **Simple Linear Function**"
   ]
  },
  {
   "cell_type": "markdown",
   "metadata": {
    "id": "o7jtx6SePtm2"
   },
   "source": [
    "Copyright 2019 Anthony Ng.\n",
    "\n",
    "&emsp;\n",
    "\n",
    "Licensed under the Apache License, Version 2.0 (the \"License\");\n",
    "\n",
    "you may not use this file except in compliance with the License.\n",
    "\n",
    "You may obtain a copy of the License at\n",
    "\n",
    "\n",
    "&emsp;https://www.apache.org/licenses/LICENSE-2.0\n",
    "\n",
    "\n",
    "Unless required by applicable law or agreed to in writing, software\n",
    "\n",
    "distributed under the License is distributed on an \"AS IS\" BASIS,\n",
    "\n",
    "WITHOUT WARRANTIES OR CONDITIONS OF ANY KIND, either express or implied.\n",
    "\n",
    "See the License for the specific language governing permissions and\n",
    "\n",
    "limitations under the License."
   ]
  },
  {
   "cell_type": "markdown",
   "metadata": {
    "id": "JsiZjxg8Qk2v"
   },
   "source": [
    "# Getting Started"
   ]
  },
  {
   "attachments": {
    "309e5630-7d7d-4517-ab23-c1d56609f812.png": {
     "image/png": "[encoded data removed]"
    },
    "41c6d3e5-afed-483c-933a-df1c69d290cc.png": {
     "image/png": "[encoded data removed]"
    },
    "bb8b5f8e-f216-4e80-89a1-ae54cf683a1a.png": {
     "image/png": "[encoded data removed]"
    },
    "eef6cc16-e7e0-47ce-afde-ac8d0692298f.png": {
     "image/png": "[encoded data removed]"
    }
   },
   "cell_type": "markdown",
   "metadata": {
    "id": "-DutgIlAQoEu"
   },
   "source": [
    "## Problem Statement\n",
    "\n",
    "Let's start with something extremely simple to understand the rationale of using neural networks.\n",
    "\n",
    "We have some sample data generated by the following function $y = 3X + 50$. \n",
    "\n",
    "<!-- \n",
    "X\t3X\tC\tY\n",
    "-20\t-60\t50\t-10\n",
    "-5\t-15\t50\t35\n",
    "1\t3\t50\t53\n",
    "5\t15\t50\t65\n",
    "20\t60\t50\t110\n",
    "55\t165\t50\t215\n",
    "76\t228\t50\t278 -->\n",
    "\n",
    "![image.png](attachment:eef6cc16-e7e0-47ce-afde-ac8d0692298f.png)\n",
    "<!-- ![image.png](attachment:41c6d3e5-afed-483c-933a-df1c69d290cc.png)\n",
    "![image.png](attachment:bb8b5f8e-f216-4e80-89a1-ae54cf683a1a.png)\n",
    "![image.png](attachment:309e5630-7d7d-4517-ab23-c1d56609f812.png) -->\n",
    "\n",
    "In real life, we have no knowledge of the real function. We only have the data. Of course, if we know the real function, we can code it up. However, we don't. We have to estimate the function with the data given. That is the challenge here.\n"
   ]
  },
  {
   "cell_type": "markdown",
   "metadata": {
    "id": "cbK2RlxzTXmd"
   },
   "source": [
    "## Import Libraries"
   ]
  },
  {
   "cell_type": "code",
   "execution_count": 13,
   "metadata": {
    "id": "qp7-Ef1IBGIb"
   },
   "outputs": [],
   "source": [
    "import numpy as np\n",
    "import tensorflow as tf\n",
    "from tensorflow import keras\n",
    "import matplotlib.pyplot as plt"
   ]
  },
  {
   "cell_type": "markdown",
   "metadata": {
    "id": "Utj4lSRUTPwn"
   },
   "source": [
    "## Preparing the Training Data"
   ]
  },
  {
   "cell_type": "code",
   "execution_count": 14,
   "metadata": {
    "id": "XHBcJyPxCZnv"
   },
   "outputs": [],
   "source": [
    "X = np.array([-20, -5, 1, 5, 20, 55, 76],  dtype=float)\n",
    "y = np.array([-10, 35, 53, 65, 110, 215, 278],  dtype=float)"
   ]
  },
  {
   "cell_type": "code",
   "execution_count": 15,
   "metadata": {},
   "outputs": [
    {
     "data": {
      "text/plain": [
       "1"
      ]
     },
     "execution_count": 15,
     "metadata": {},
     "output_type": "execute_result"
    }
   ],
   "source": [
    "X.ndim"
   ]
  },
  {
   "cell_type": "markdown",
   "metadata": {
    "id": "65k_8qNFDbKF"
   },
   "source": [
    "### Side Note\n",
    "\n",
    " - **Feature(s)** — The independent variable(s) / input(s) to our model. In our case, X.\n",
    "\n",
    " - **Label(s) / Target(s)** — The dependent variable(s) / output our model predicts. In our case, y.\n",
    "\n",
    " - **Example** — A pair of feature/label provided to the machine learning algorithm during training. \n",
    "\n"
   ]
  },
  {
   "cell_type": "markdown",
   "metadata": {
    "id": "28H1VU6zDdv0"
   },
   "source": [
    "## Defining Our Model\n",
    "\n",
    "We will start very simply with just the `Dense` layer and only **one** neuron.\n",
    "\n",
    "\n",
    "#### Model and Layer Specification\n",
    "\n",
    "We need to first instantiate (create an instance) a layer by calling `tf.keras.layers.Dense`.\n",
    "\n",
    "*   `input_shape=[1]` — Value of 1 specify that we are only taking a single value to this layer. In our case, X.\n",
    "\n",
    "*   `units=1` — Value of 1 specify that we are informing keras we are creating a neural network with only one neuron (some time called internal variable). The more complex a problem is, the more neuron you will need to learn the pattern. You may need more than a layer as well.\n",
    "\n",
    "*   For our problem, we only have one layer. The `input_shape` then is also our first layer. With us specify it as 1 then, we are defining our neural network to take only a single value, which is a floating point number. Similarly, as this is our only layer, it is also our final layer. The `units` specify the number of output from our neural network - a single value, which is a single floating point number. One need to take care in a multi-layered network, the size and shape of the output layer as defined by `units` would need to match the `input_shape` of the next layer.\n"
   ]
  },
  {
   "cell_type": "markdown",
   "metadata": {
    "id": "HAGOCqIPT_c1"
   },
   "source": [
    "We can define this way:"
   ]
  },
  {
   "cell_type": "code",
   "execution_count": 16,
   "metadata": {
    "id": "SwO7EN-9CnER"
   },
   "outputs": [],
   "source": [
    "model = tf.keras.Sequential([\n",
    "    tf.keras.layers.Dense(units=1, input_shape=[1])\n",
    "])\n"
   ]
  },
  {
   "cell_type": "markdown",
   "metadata": {
    "id": "Q9aYfHlHGDvQ"
   },
   "source": [
    "## Compile Model\n",
    "\n",
    "We need to compile our neural network with further parameters:\n",
    "\n",
    "- **Loss function** — The loss function is a performance metric. It is used to measure the errors of our model against the actual outcome. It is called loss function because the difference between our prediction and actual is called \"loss\".\n",
    "\n",
    "\n",
    "- **Optimizer function** — The is the mathematic function that is used to adjust the model parameters to improve prediction accuracy. \n",
    "\n",
    "\n",
    "\n",
    "\n",
    "\n"
   ]
  },
  {
   "cell_type": "code",
   "execution_count": 17,
   "metadata": {},
   "outputs": [],
   "source": [
    "learning_rate = 0.1 # I tried 0.001, 0.01 and 0.1\n",
    "model.compile(loss='mean_squared_error',\n",
    "              optimizer=keras.optimizers.Adam(learning_rate))"
   ]
  },
  {
   "cell_type": "markdown",
   "metadata": {
    "id": "G7D2MunuHLm6"
   },
   "source": [
    "[Selecting the Right Evaluation Metric](https://towardsdatascience.com/how-to-select-the-right-evaluation-metric-for-machine-learning-models-part-1-regrression-metrics-3606e25beae0)\n",
    "\n",
    "[Adam Optimization Algorithm](https://machinelearningmastery.com/adam-optimization-algorithm-for-deep-learning/)\n",
    "\n",
    "The learning rate (0.01 in our code) specified the step size taken by the optimizer when adjusting values in the model. There are no hard and fast rule with this. It will involve some trial and error. If it is too small, it will take too long and our model might not have converged yet when the training stopped as specify by the epoch variable. If it is too large,it might not converge at all. The typical range is usually between 0.001 (default) and 0.1.\n"
   ]
  },
  {
   "cell_type": "markdown",
   "metadata": {
    "id": "h5yaZmybHikH"
   },
   "source": [
    "## Training the Model\n",
    "\n",
    "We can now proceed to train our model by calling the `fit` method.\n",
    "\n",
    "Recal our actual model was $y = 3X + 50$. The slope 3 and intercept (bias) 50 are the two coefficients are asking the neural network to estimate.\n",
    "\n",
    "\n",
    "*   The neural network starts off with random value (also called `weights`) and use it and the input X to compute y. As the weights started off with a random value, the prefiction will start off with large errors. \n",
    "*   The loss value is calculated using the loss function taking the prediction and actual value into account.\n",
    "*   The optimizer then make slight (according to the learning rate) adjustments to the weights with the goal of reducing the loss\n",
    "*   One epoch is the full iteration of the examples we have seen. i.e., all our data.\n",
    "\n",
    "\n",
    "**Parameters**\n",
    "*   input, X in our case\n",
    "*   output, y in our case\n",
    "*   `epochs` specifies how many cycles should be run\n",
    "*   verbose argument controls how much output the fit method is displayed on the console.\n",
    "\n",
    "\n",
    "\n"
   ]
  },
  {
   "cell_type": "code",
   "execution_count": 18,
   "metadata": {
    "id": "X10xEQNZHOvI"
   },
   "outputs": [],
   "source": [
    "history = model.fit(X, y, epochs=1000, verbose=False)"
   ]
  },
  {
   "cell_type": "markdown",
   "metadata": {
    "id": "oVyEZte5H7vI"
   },
   "source": [
    "## Visualise Model Training\n",
    "\n",
    "*   The `fit` method returned the training history statistics. We can access it via `history`\n",
    "*   High loss means high error. \n",
    "*   By plotting is over epoch, we can visualise the error / accuracy over epoch."
   ]
  },
  {
   "cell_type": "code",
   "execution_count": 19,
   "metadata": {},
   "outputs": [],
   "source": [
    "loss = history.history['loss']"
   ]
  },
  {
   "cell_type": "code",
   "execution_count": 20,
   "metadata": {
    "colab": {
     "base_uri": "https://localhost:8080/",
     "height": 300
    },
    "id": "B_bCLdJ-Hqb4",
    "outputId": "c51bc818-e3e5-4395-93fe-23a9967a0f95"
   },
   "outputs": [
    {
     "data": {
      "text/plain": [
       "[<matplotlib.lines.Line2D at 0x24cbf79cbb0>]"
      ]
     },
     "execution_count": 20,
     "metadata": {},
     "output_type": "execute_result"
    },
    {
     "data": {
      "image/png": "[encoded data removed]",
      "text/plain": [
       "<Figure size 432x288 with 1 Axes>"
      ]
     },
     "metadata": {
      "needs_background": "light"
     },
     "output_type": "display_data"
    }
   ],
   "source": [
    "plt.plot(loss)"
   ]
  },
  {
   "cell_type": "markdown",
   "metadata": {
    "id": "xc4LpH6pUVOe"
   },
   "source": [
    "## Looking under the Hood"
   ]
  },
  {
   "cell_type": "code",
   "execution_count": 21,
   "metadata": {
    "colab": {
     "base_uri": "https://localhost:8080/",
     "height": 34
    },
    "id": "li6KgVwAH83w",
    "outputId": "e5b1c9cd-94cd-458b-d29f-738a22abb911"
   },
   "outputs": [
    {
     "name": "stdout",
     "output_type": "stream",
     "text": [
      "[[350.86765]]\n"
     ]
    }
   ],
   "source": [
    "print(model.predict([100.0]))"
   ]
  },
  {
   "cell_type": "code",
   "execution_count": 22,
   "metadata": {
    "colab": {
     "base_uri": "https://localhost:8080/",
     "height": 34
    },
    "id": "rovKRHy3NKxg",
    "outputId": "7e655fb8-ea13-42a3-c682-f876997e76c1"
   },
   "outputs": [
    {
     "data": {
      "text/plain": [
       "[array([[3.0316067]], dtype=float32), array([47.70697], dtype=float32)]"
      ]
     },
     "execution_count": 22,
     "metadata": {},
     "output_type": "execute_result"
    }
   ],
   "source": [
    "model.get_weights()"
   ]
  },
  {
   "cell_type": "markdown",
   "metadata": {
    "id": "oAVxdACNNaYX"
   },
   "source": [
    "Recall $y = 3x + 50$. We are asking the neural network to estimate 3 (first variable) and 50 (second variable)."
   ]
  }
 ],
 "metadata": {
  "accelerator": "GPU",
  "colab": {
   "collapsed_sections": [],
   "name": "10 Simple Function",
   "provenance": [],
   "toc_visible": true
  },
  "kernelspec": {
   "display_name": "Python 3",
   "language": "python",
   "name": "python3"
  },
  "language_info": {
   "codemirror_mode": {
    "name": "ipython",
    "version": 3
   },
   "file_extension": ".py",
   "mimetype": "text/x-python",
   "name": "python",
   "nbconvert_exporter": "python",
   "pygments_lexer": "ipython3",
   "version": "3.8.10"
  }
 },
 "nbformat": 4,
 "nbformat_minor": 4
}
