{
 "cells": [
  {
   "cell_type": "markdown",
   "id": "cc5db149-79b8-476f-9fd0-65a2f671f151",
   "metadata": {},
   "source": [
    "# **ANN REGRESSION**"
   ]
  },
  {
   "cell_type": "code",
   "execution_count": 2,
   "id": "8b38df17-a330-40fa-a8ef-7be58bbcfdda",
   "metadata": {},
   "outputs": [],
   "source": [
    "import pandas as pd\n",
    "import numpy as np\n",
    "import matplotlib.pyplot as plt"
   ]
  },
  {
   "cell_type": "code",
   "execution_count": 4,
   "id": "d4014ba7-a945-4ec4-ac0f-50d9d011cb8a",
   "metadata": {},
   "outputs": [],
   "source": [
    "import tensorflow as tf\n",
    "from tensorflow import keras"
   ]
  },
  {
   "cell_type": "code",
   "execution_count": 6,
   "id": "c3bfbdf6-7a22-429d-9728-8ceb83c103f7",
   "metadata": {},
   "outputs": [],
   "source": [
    "from sklearn import datasets"
   ]
  },
  {
   "cell_type": "code",
   "execution_count": 10,
   "id": "d45b4259-854b-4211-bf5f-dc6c6ff407c9",
   "metadata": {},
   "outputs": [],
   "source": [
    "boston = datasets.load_boston()"
   ]
  },
  {
   "cell_type": "code",
   "execution_count": 19,
   "id": "97507dbd-52e4-4e36-bd58-68fa20bd2052",
   "metadata": {},
   "outputs": [],
   "source": [
    "df = pd.DataFrame(boston.data, columns=boston.feature_names )"
   ]
  },
  {
   "cell_type": "code",
   "execution_count": 26,
   "id": "77145ceb-a9bb-4bde-bd8a-4aa0373467b0",
   "metadata": {},
   "outputs": [],
   "source": [
    "df[\"H_PRICE\"] = boston.target"
   ]
  },
  {
   "cell_type": "code",
   "execution_count": 33,
   "id": "2bf8de5c-6e74-4f89-9ea8-27a2ad1fc055",
   "metadata": {},
   "outputs": [
    {
     "data": {
      "text/html": [
       "<div>\n",
       "<style scoped>\n",
       "    .dataframe tbody tr th:only-of-type {\n",
       "        vertical-align: middle;\n",
       "    }\n",
       "\n",
       "    .dataframe tbody tr th {\n",
       "        vertical-align: top;\n",
       "    }\n",
       "\n",
       "    .dataframe thead th {\n",
       "        text-align: right;\n",
       "    }\n",
       "</style>\n",
       "<table border=\"1\" class=\"dataframe\">\n",
       "  <thead>\n",
       "    <tr style=\"text-align: right;\">\n",
       "      <th></th>\n",
       "      <th>CRIM</th>\n",
       "      <th>ZN</th>\n",
       "      <th>INDUS</th>\n",
       "      <th>CHAS</th>\n",
       "      <th>NOX</th>\n",
       "      <th>RM</th>\n",
       "      <th>AGE</th>\n",
       "      <th>DIS</th>\n",
       "      <th>RAD</th>\n",
       "      <th>TAX</th>\n",
       "      <th>PTRATIO</th>\n",
       "      <th>B</th>\n",
       "      <th>LSTAT</th>\n",
       "      <th>H_PRICE</th>\n",
       "    </tr>\n",
       "  </thead>\n",
       "  <tbody>\n",
       "    <tr>\n",
       "      <th>0</th>\n",
       "      <td>0.00632</td>\n",
       "      <td>18.0</td>\n",
       "      <td>2.31</td>\n",
       "      <td>0.0</td>\n",
       "      <td>0.538</td>\n",
       "      <td>6.575</td>\n",
       "      <td>65.2</td>\n",
       "      <td>4.0900</td>\n",
       "      <td>1.0</td>\n",
       "      <td>296.0</td>\n",
       "      <td>15.3</td>\n",
       "      <td>396.90</td>\n",
       "      <td>4.98</td>\n",
       "      <td>24.0</td>\n",
       "    </tr>\n",
       "    <tr>\n",
       "      <th>1</th>\n",
       "      <td>0.02731</td>\n",
       "      <td>0.0</td>\n",
       "      <td>7.07</td>\n",
       "      <td>0.0</td>\n",
       "      <td>0.469</td>\n",
       "      <td>6.421</td>\n",
       "      <td>78.9</td>\n",
       "      <td>4.9671</td>\n",
       "      <td>2.0</td>\n",
       "      <td>242.0</td>\n",
       "      <td>17.8</td>\n",
       "      <td>396.90</td>\n",
       "      <td>9.14</td>\n",
       "      <td>21.6</td>\n",
       "    </tr>\n",
       "    <tr>\n",
       "      <th>2</th>\n",
       "      <td>0.02729</td>\n",
       "      <td>0.0</td>\n",
       "      <td>7.07</td>\n",
       "      <td>0.0</td>\n",
       "      <td>0.469</td>\n",
       "      <td>7.185</td>\n",
       "      <td>61.1</td>\n",
       "      <td>4.9671</td>\n",
       "      <td>2.0</td>\n",
       "      <td>242.0</td>\n",
       "      <td>17.8</td>\n",
       "      <td>392.83</td>\n",
       "      <td>4.03</td>\n",
       "      <td>34.7</td>\n",
       "    </tr>\n",
       "    <tr>\n",
       "      <th>3</th>\n",
       "      <td>0.03237</td>\n",
       "      <td>0.0</td>\n",
       "      <td>2.18</td>\n",
       "      <td>0.0</td>\n",
       "      <td>0.458</td>\n",
       "      <td>6.998</td>\n",
       "      <td>45.8</td>\n",
       "      <td>6.0622</td>\n",
       "      <td>3.0</td>\n",
       "      <td>222.0</td>\n",
       "      <td>18.7</td>\n",
       "      <td>394.63</td>\n",
       "      <td>2.94</td>\n",
       "      <td>33.4</td>\n",
       "    </tr>\n",
       "    <tr>\n",
       "      <th>4</th>\n",
       "      <td>0.06905</td>\n",
       "      <td>0.0</td>\n",
       "      <td>2.18</td>\n",
       "      <td>0.0</td>\n",
       "      <td>0.458</td>\n",
       "      <td>7.147</td>\n",
       "      <td>54.2</td>\n",
       "      <td>6.0622</td>\n",
       "      <td>3.0</td>\n",
       "      <td>222.0</td>\n",
       "      <td>18.7</td>\n",
       "      <td>396.90</td>\n",
       "      <td>5.33</td>\n",
       "      <td>36.2</td>\n",
       "    </tr>\n",
       "  </tbody>\n",
       "</table>\n",
       "</div>"
      ],
      "text/plain": [
       "      CRIM    ZN  INDUS  CHAS    NOX     RM   AGE     DIS  RAD    TAX  \\\n",
       "0  0.00632  18.0   2.31   0.0  0.538  6.575  65.2  4.0900  1.0  296.0   \n",
       "1  0.02731   0.0   7.07   0.0  0.469  6.421  78.9  4.9671  2.0  242.0   \n",
       "2  0.02729   0.0   7.07   0.0  0.469  7.185  61.1  4.9671  2.0  242.0   \n",
       "3  0.03237   0.0   2.18   0.0  0.458  6.998  45.8  6.0622  3.0  222.0   \n",
       "4  0.06905   0.0   2.18   0.0  0.458  7.147  54.2  6.0622  3.0  222.0   \n",
       "\n",
       "   PTRATIO       B  LSTAT  H_PRICE  \n",
       "0     15.3  396.90   4.98     24.0  \n",
       "1     17.8  396.90   9.14     21.6  \n",
       "2     17.8  392.83   4.03     34.7  \n",
       "3     18.7  394.63   2.94     33.4  \n",
       "4     18.7  396.90   5.33     36.2  "
      ]
     },
     "execution_count": 33,
     "metadata": {},
     "output_type": "execute_result"
    }
   ],
   "source": [
    "df.head()"
   ]
  },
  {
   "cell_type": "code",
   "execution_count": 40,
   "id": "491dc773-9bb4-474f-b8a5-83f57c90183f",
   "metadata": {},
   "outputs": [],
   "source": [
    "X = df.drop(\"H_PRICE\", axis = 1).values\n",
    "y = df[\"H_PRICE\"].values"
   ]
  },
  {
   "cell_type": "code",
   "execution_count": 47,
   "id": "72981621-0907-4a45-b4a3-b34102af9657",
   "metadata": {},
   "outputs": [
    {
     "name": "stdout",
     "output_type": "stream",
     "text": [
      "Shape of X = (506, 13)\n",
      "Shape of Y= (506,)\n"
     ]
    }
   ],
   "source": [
    "print(f\"Shape of X = {X.shape}\")\n",
    "print(f\"Shape of Y= {y.shape}\")"
   ]
  },
  {
   "cell_type": "code",
   "execution_count": 91,
   "id": "b55eb8b2-60d7-4486-b12e-0bc951355890",
   "metadata": {},
   "outputs": [],
   "source": [
    "from sklearn.model_selection import train_test_split\n",
    "X_train_full, X_test, y_train_full, y_test = train_test_split(X, y, random_state=42)\n",
    "X_train, X_valid, y_train, y_valid = train_test_split(X_train_full, y_train_full,\n",
    "                                                      random_state=42)"
   ]
  },
  {
   "cell_type": "code",
   "execution_count": 92,
   "id": "02d4e1fd-dcca-45ab-999e-a229a6f8a4c0",
   "metadata": {},
   "outputs": [],
   "source": [
    "from sklearn.preprocessing import StandardScaler\n",
    "scaler = StandardScaler()\n",
    "X_train = scaler.fit_transform(X_train)\n",
    "X_valid = scaler.transform(X_valid)\n",
    "X_test = scaler.transform(X_test)"
   ]
  },
  {
   "cell_type": "code",
   "execution_count": 93,
   "id": "4f3cf890-a20d-4241-924b-7536b18f0c91",
   "metadata": {},
   "outputs": [],
   "source": [
    "np.random.seed(42)\n",
    "tf.random.set_seed(42)"
   ]
  },
  {
   "cell_type": "code",
   "execution_count": 95,
   "id": "1c958cb5-e159-41a7-96f2-32ccaba0c126",
   "metadata": {},
   "outputs": [],
   "source": [
    "model = keras.models.Sequential([\n",
    "    keras.layers.Dense(30, activation=\"relu\", input_shape=[13]),\n",
    "    keras.layers.Dense(30, activation=\"relu\"),\n",
    "    keras.layers.Dense(1)\n",
    "])"
   ]
  },
  {
   "cell_type": "code",
   "execution_count": 96,
   "id": "afc3d491-e071-4f36-8e34-b8cdb38b0499",
   "metadata": {},
   "outputs": [
    {
     "name": "stdout",
     "output_type": "stream",
     "text": [
      "Model: \"sequential_7\"\n",
      "_________________________________________________________________\n",
      "Layer (type)                 Output Shape              Param #   \n",
      "=================================================================\n",
      "dense_14 (Dense)             (None, 30)                420       \n",
      "_________________________________________________________________\n",
      "dense_15 (Dense)             (None, 30)                930       \n",
      "_________________________________________________________________\n",
      "dense_16 (Dense)             (None, 1)                 31        \n",
      "=================================================================\n",
      "Total params: 1,381\n",
      "Trainable params: 1,381\n",
      "Non-trainable params: 0\n",
      "_________________________________________________________________\n"
     ]
    }
   ],
   "source": [
    "model.summary()"
   ]
  },
  {
   "cell_type": "code",
   "execution_count": 101,
   "id": "00c53a5b-166d-41f8-beeb-e064435964e5",
   "metadata": {},
   "outputs": [],
   "source": [
    "model.compile(loss=\"mean_squared_error\", \n",
    "              optimizer=keras.optimizers.SGD(lr=1e-3), \n",
    "              metrics=['mae'])"
   ]
  },
  {
   "cell_type": "code",
   "execution_count": 102,
   "id": "849fb3e5-e6bf-4d6a-9175-30c4ab550458",
   "metadata": {},
   "outputs": [
    {
     "name": "stdout",
     "output_type": "stream",
     "text": [
      "Epoch 1/20\n",
      "9/9 [==============================] - 0s 18ms/step - loss: 6.3216 - mae: 1.8850 - val_loss: 22.6681 - val_mae: 3.1001\n",
      "Epoch 2/20\n",
      "9/9 [==============================] - 0s 5ms/step - loss: 5.8115 - mae: 1.7648 - val_loss: 23.2056 - val_mae: 3.1080\n",
      "Epoch 3/20\n",
      "9/9 [==============================] - 0s 4ms/step - loss: 5.6657 - mae: 1.7499 - val_loss: 23.8366 - val_mae: 3.1135\n",
      "Epoch 4/20\n",
      "9/9 [==============================] - 0s 4ms/step - loss: 5.5787 - mae: 1.7486 - val_loss: 24.0196 - val_mae: 3.1144\n",
      "Epoch 5/20\n",
      "9/9 [==============================] - 0s 4ms/step - loss: 5.4562 - mae: 1.7295 - val_loss: 24.0086 - val_mae: 3.1134\n",
      "Epoch 6/20\n",
      "9/9 [==============================] - ETA: 0s - loss: 8.0356 - mae: 1.944 - 0s 4ms/step - loss: 5.4049 - mae: 1.7218 - val_loss: 24.0206 - val_mae: 3.1125\n",
      "Epoch 7/20\n",
      "9/9 [==============================] - 0s 4ms/step - loss: 5.3633 - mae: 1.7155 - val_loss: 24.0666 - val_mae: 3.1123\n",
      "Epoch 8/20\n",
      "9/9 [==============================] - 0s 4ms/step - loss: 5.3073 - mae: 1.7089 - val_loss: 23.9602 - val_mae: 3.1119\n",
      "Epoch 9/20\n",
      "9/9 [==============================] - 0s 4ms/step - loss: 5.2841 - mae: 1.7022 - val_loss: 23.9001 - val_mae: 3.0965\n",
      "Epoch 10/20\n",
      "9/9 [==============================] - 0s 4ms/step - loss: 5.3177 - mae: 1.7019 - val_loss: 23.8827 - val_mae: 3.0758\n",
      "Epoch 11/20\n",
      "9/9 [==============================] - 0s 4ms/step - loss: 5.1975 - mae: 1.6899 - val_loss: 23.8991 - val_mae: 3.0803\n",
      "Epoch 12/20\n",
      "9/9 [==============================] - 0s 4ms/step - loss: 5.1868 - mae: 1.6774 - val_loss: 23.9292 - val_mae: 3.0795\n",
      "Epoch 13/20\n",
      "9/9 [==============================] - 0s 4ms/step - loss: 5.1228 - mae: 1.6778 - val_loss: 23.8678 - val_mae: 3.0634\n",
      "Epoch 14/20\n",
      "9/9 [==============================] - 0s 4ms/step - loss: 5.1227 - mae: 1.6790 - val_loss: 23.8814 - val_mae: 3.0582\n",
      "Epoch 15/20\n",
      "9/9 [==============================] - 0s 4ms/step - loss: 5.0756 - mae: 1.6753 - val_loss: 23.5598 - val_mae: 3.0618\n",
      "Epoch 16/20\n",
      "9/9 [==============================] - 0s 4ms/step - loss: 5.0432 - mae: 1.6623 - val_loss: 23.4041 - val_mae: 3.0706\n",
      "Epoch 17/20\n",
      "9/9 [==============================] - 0s 4ms/step - loss: 5.0368 - mae: 1.6528 - val_loss: 23.6518 - val_mae: 3.0590\n",
      "Epoch 18/20\n",
      "9/9 [==============================] - 0s 4ms/step - loss: 5.0097 - mae: 1.6595 - val_loss: 23.4952 - val_mae: 3.0621\n",
      "Epoch 19/20\n",
      "9/9 [==============================] - 0s 4ms/step - loss: 5.0175 - mae: 1.6516 - val_loss: 23.5497 - val_mae: 3.0582\n",
      "Epoch 20/20\n",
      "9/9 [==============================] - 0s 4ms/step - loss: 4.9514 - mae: 1.6502 - val_loss: 23.4290 - val_mae: 3.0394\n"
     ]
    }
   ],
   "source": [
    "model_history = model.fit(X_train, y_train, epochs=20,\n",
    "                          validation_data=(X_valid, y_valid))"
   ]
  },
  {
   "cell_type": "code",
   "execution_count": 103,
   "id": "eac557c1-1e8d-4523-84ea-294881dc76dd",
   "metadata": {},
   "outputs": [
    {
     "name": "stdout",
     "output_type": "stream",
     "text": [
      "4/4 [==============================] - 0s 0s/step - loss: 13.5407 - mae: 2.1446\n"
     ]
    },
    {
     "data": {
      "text/plain": [
       "[13.540654182434082, 2.144587993621826]"
      ]
     },
     "execution_count": 103,
     "metadata": {},
     "output_type": "execute_result"
    }
   ],
   "source": [
    "model.evaluate(X_test, y_test)"
   ]
  },
  {
   "cell_type": "code",
   "execution_count": 104,
   "id": "e0c22878-268a-4de9-b7d5-0399d681c26c",
   "metadata": {},
   "outputs": [
    {
     "data": {
      "text/plain": [
       "array([[24.202747]], dtype=float32)"
      ]
     },
     "execution_count": 104,
     "metadata": {},
     "output_type": "execute_result"
    }
   ],
   "source": [
    "model.predict(X_test[:1])"
   ]
  },
  {
   "cell_type": "code",
   "execution_count": 107,
   "id": "bd78dfce-c683-4762-815f-7e4cfe7f4820",
   "metadata": {},
   "outputs": [
    {
     "data": {
      "image/png": "[encoded data removed]",
      "text/plain": [
       "<Figure size 576x360 with 1 Axes>"
      ]
     },
     "metadata": {
      "needs_background": "light"
     },
     "output_type": "display_data"
    }
   ],
   "source": [
    "pd.DataFrame(model_history.history).plot(figsize=(8, 5))\n",
    "plt.grid(True)\n",
    "# plt.gca().set_ylim(0, 1)\n",
    "\n",
    "plt.show()"
   ]
  },
  {
   "cell_type": "code",
   "execution_count": null,
   "id": "a570935e-88ac-4380-80fc-26a513bfe520",
   "metadata": {},
   "outputs": [],
   "source": []
  }
 ],
 "metadata": {
  "kernelspec": {
   "display_name": "Python 3",
   "language": "python",
   "name": "python3"
  },
  "language_info": {
   "codemirror_mode": {
    "name": "ipython",
    "version": 3
   },
   "file_extension": ".py",
   "mimetype": "text/x-python",
   "name": "python",
   "nbconvert_exporter": "python",
   "pygments_lexer": "ipython3",
   "version": "3.8.10"
  }
 },
 "nbformat": 4,
 "nbformat_minor": 5
}
